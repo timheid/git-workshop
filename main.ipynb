{
 "cells": [
  {
   "cell_type": "code",
   "execution_count": null,
   "metadata": {},
   "outputs": [],
   "source": [
    "from urllib.request import Request, urlopen\n",
    "\n",
    "def fetch_random_dad_joke() -> str:\n",
    "    req = Request(\n",
    "        url=\"https://icanhazdadjoke.com/\",\n",
    "        headers={\n",
    "            \"Accept\": \"text/plain\",\n",
    "            \"User-Agent\": \"Workshop\"\n",
    "        }\n",
    "    )\n",
    "    return urlopen(req).read().decode(\"utf-8\")\n",
    "\n",
    "print(fetch_random_dad_joke())"
   ]
  }
 ],
 "metadata": {
  "kernelspec": {
   "display_name": "Python 3.8.8 ('base')",
   "language": "python",
   "name": "python3"
  },
  "language_info": {
   "name": "python",
   "version": "3.8.8"
  },
  "orig_nbformat": 4,
  "vscode": {
   "interpreter": {
    "hash": "40d3a090f54c6569ab1632332b64b2c03c39dcf918b08424e98f38b5ae0af88f"
   }
  }
 },
 "nbformat": 4,
 "nbformat_minor": 2
}
